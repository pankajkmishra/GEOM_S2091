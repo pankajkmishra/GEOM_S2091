{
 "cells": [
  {
   "cell_type": "code",
   "execution_count": null,
   "metadata": {},
   "outputs": [],
   "source": [
    "# Example from Menke's book \n",
    "# Define the data points\n",
    "data = np.array([[1, 1], [2, 2], [3, 3], [4, 5]])\n",
    "\n",
    "# Perform linear regression assuming the first column is independent variable z\n",
    "# and the second column is dependent variable d\n",
    "z = data[:, 0]\n",
    "d = data[:, 1]\n",
    "slope_z, intercept_z = np.polyfit(z, d, 1)\n",
    "\n",
    "# Perform linear regression assuming the second column is independent variable d0\n",
    "# and the first column is dependent variable z0\n",
    "d0 = d\n",
    "z0 = z\n",
    "slope_d0, intercept_d0 = np.polyfit(d0, z0, 1)\n",
    "\n",
    "# Create the line equations\n",
    "line_z = slope_z * z + intercept_z\n",
    "line_d0 = intercept_d0 + slope_d0 * d0\n",
    "\n",
    "plt.figure(figsize=(10, 5))\n",
    "\n",
    "# Subplot 1\n",
    "plt.subplot(1, 2, 1)\n",
    "plt.plot(z, d, 'o', markersize=8, label='Original data') \n",
    "plt.plot(z, line_z, 'r-', linewidth=2, label=f'Line fit (z as independent): y = {slope_z:.2f}x + {intercept_z:.2f}')\n",
    "plt.xlabel('z', fontsize=12)\n",
    "plt.ylabel('d', fontsize=12)\n",
    "plt.title('Fit with z as independent variable', fontsize=14)\n",
    "plt.legend()\n",
    "plt.gca().tick_params(width=2, length=6)  \n",
    "for axis in ['top','bottom','left','right']: \n",
    "    plt.gca().spines[axis].set_linewidth(2)\n",
    "\n",
    "# Subplot 2\n",
    "plt.subplot(1, 2, 2)\n",
    "plt.plot(d0, z0, 'o', markersize=8, label='Original data')  \n",
    "plt.plot(d0, line_d0, 'b-', linewidth=2, label=f'Line fit (d as independent): x = {slope_d0:.2f}y + {intercept_d0:.2f}')\n",
    "plt.xlabel('d', fontsize=12)\n",
    "plt.ylabel('z', fontsize=12)\n",
    "plt.title('Fit with d as independent variable', fontsize=14)\n",
    "plt.legend()\n",
    "plt.gca().tick_params(width=2, length=6)  \n",
    "for axis in ['top','bottom','left','right']: \n",
    "    plt.gca().spines[axis].set_linewidth(2)\n",
    "\n",
    "plt.tight_layout()\n",
    "plt.show()\n",
    "\n"
   ]
  },
  {
   "cell_type": "code",
   "execution_count": null,
   "metadata": {},
   "outputs": [],
   "source": []
  },
  {
   "cell_type": "code",
   "execution_count": null,
   "metadata": {},
   "outputs": [],
   "source": []
  }
 ],
 "metadata": {
  "kernelspec": {
   "display_name": "base",
   "language": "python",
   "name": "python3"
  },
  "language_info": {
   "codemirror_mode": {
    "name": "ipython",
    "version": 3
   },
   "file_extension": ".py",
   "mimetype": "text/x-python",
   "name": "python",
   "nbconvert_exporter": "python",
   "pygments_lexer": "ipython3",
   "version": "3.9.13"
  }
 },
 "nbformat": 4,
 "nbformat_minor": 2
}
