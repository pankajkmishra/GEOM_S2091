{
 "cells": [
  {
   "cell_type": "code",
   "execution_count": null,
   "metadata": {},
   "outputs": [],
   "source": [
    "import numpy as np\n",
    "import matplotlib.pyplot as plt\n",
    "from scipy.optimize import minimize\n",
    "from matplotlib import cm\n",
    "from mpl_toolkits.mplot3d import Axes3D\n",
    "\n",
    "# Global history to store optimization steps\n",
    "history = []\n",
    "\n",
    "# Define the Peaks function used in the optimization\n",
    "def peaks(x, y):\n",
    "    z = (3 * (1 - x)**2 * np.exp(-(x**2) - (y + 1)**2)\n",
    "         - 10 * (x/5 - x**3 - y**5) * np.exp(-x**2 - y**2)\n",
    "         - 1/3 * np.exp(-(x + 1)**2 - y**2))\n",
    "    return z\n",
    "\n",
    "# Objective function compatible with scipy.optimize\n",
    "def peaks_obj(x):\n",
    "    return peaks(x[0], x[1])\n",
    "\n",
    "# Callback function for optimization process\n",
    "def callback(x):\n",
    "    fval = peaks_obj(x)\n",
    "    history.append([x[0], x[1], fval])\n",
    "\n",
    "# Generate meshgrid for visualization\n",
    "dx = 1/8\n",
    "x = np.arange(-3, 3 + dx, dx)\n",
    "y = np.arange(-3, 3 + dx, dx)\n",
    "X, Y = np.meshgrid(x, y)\n",
    "Z = peaks(X, Y)\n",
    "\n",
    "\n",
    "# Starting points for optimization\n",
    "start_points = [(-3, -3), (3, -2)]\n",
    "\n",
    "for x0 in start_points:\n",
    "    history = []  # Reset history for new start point\n",
    "    result = minimize(peaks_obj, x0, method='SLSQP', callback=callback, options={'disp': True})\n",
    "\n",
    "ax.legend()\n",
    "plt.show()\n"
   ]
  },
  {
   "cell_type": "code",
   "execution_count": null,
   "metadata": {},
   "outputs": [],
   "source": []
  }
 ],
 "metadata": {
  "kernelspec": {
   "display_name": "base",
   "language": "python",
   "name": "python3"
  },
  "language_info": {
   "codemirror_mode": {
    "name": "ipython",
    "version": 3
   },
   "file_extension": ".py",
   "mimetype": "text/x-python",
   "name": "python",
   "nbconvert_exporter": "python",
   "pygments_lexer": "ipython3",
   "version": "3.9.13"
  }
 },
 "nbformat": 4,
 "nbformat_minor": 2
}
